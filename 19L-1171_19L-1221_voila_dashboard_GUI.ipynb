{
 "cells": [
  {
   "cell_type": "code",
   "execution_count": 1,
   "id": "08ead51e",
   "metadata": {},
   "outputs": [
    {
     "data": {
      "application/vnd.jupyter.widget-view+json": {
       "model_id": "ddcec14b68d74cb384ff950a2de50da8",
       "version_major": 2,
       "version_minor": 0
      },
      "text/plain": [
       "VBox(children=(FloatText(value=0.0, description='Market ID:'), FloatText(value=0.0, description='Store ID:'), …"
      ]
     },
     "execution_count": 1,
     "metadata": {},
     "output_type": "execute_result"
    }
   ],
   "source": [
    "import ipywidgets as widgets\n",
    "import joblib\n",
    "import pandas as pd\n",
    "import numpy as np\n",
    "from sklearn.linear_model import LinearRegression\n",
    "from sklearn.model_selection import train_test_split\n",
    "from sklearn.metrics import mean_squared_error\n",
    "from sklearn.preprocessing import StandardScaler\n",
    "import matplotlib.pyplot as plt\n",
    "\n",
    "# Load the trained model\n",
    "loaded_model = joblib.load('rfdeliverymodel.pkl')\n",
    "\n",
    "# GUI components\n",
    "market_id = widgets.FloatText(description=\"Market ID:\")\n",
    "store_id = widgets.FloatText(description=\"Store ID:\")\n",
    "create_hour = widgets.FloatText(description=\"Create Hour:\")\n",
    "total_onshift_dashers = widgets.FloatText(description=\"Total Onshift Dashers:\")\n",
    "total_busy_dashers = widgets.FloatText(description=\"Total Busy Dashers:\")\n",
    "total_outstanding_orders = widgets.FloatText(description=\"Total Outstanding Orders:\")\n",
    "min_item_price = widgets.FloatText(description=\"Min Item Price:\")\n",
    "max_item_price = widgets.FloatText(description=\"Max Item Price:\")\n",
    "subtotal = widgets.FloatText(description=\"Subtotal:\")\n",
    "create_week = widgets.FloatText(description=\"Create Week:\")\n",
    "\n",
    "# Button for prediction\n",
    "predict_button = widgets.Button(description=\"Predict Delivery Time\")\n",
    "\n",
    "# Output widget to display prediction\n",
    "output = widgets.Output()\n",
    "\n",
    "# Function to make predictions\n",
    "def predict(_):\n",
    "    input_data = pd.DataFrame({\n",
    "        'market_id': [market_id.value],\n",
    "        'store_id': [store_id.value],\n",
    "        'create_hour': [create_hour.value],\n",
    "        'total_onshift_dashers': [total_onshift_dashers.value],\n",
    "        'total_busy_dashers': [total_busy_dashers.value],\n",
    "        'total_outstanding_orders': [total_outstanding_orders.value],\n",
    "        'min_item_price': [min_item_price.value],\n",
    "        'max_item_price': [max_item_price.value],\n",
    "        'subtotal': [subtotal.value],\n",
    "        'create_week': [create_week.value],\n",
    "    })\n",
    "\n",
    "    # Make prediction\n",
    "    prediction = loaded_model.predict(input_data)\n",
    "\n",
    "    # Display prediction\n",
    "    with output:\n",
    "        print(f\"Predicted Delivery Time: {prediction}\")\n",
    "\n",
    "# Attach the predict function to the button click event\n",
    "predict_button.on_click(predict)\n",
    "\n",
    "# Display GUI\n",
    "widgets.VBox([market_id, store_id, create_hour, total_onshift_dashers,\n",
    "              total_busy_dashers, total_outstanding_orders, min_item_price,\n",
    "              max_item_price, subtotal, create_week, predict_button, output])\n"
   ]
  },
  {
   "cell_type": "code",
   "execution_count": null,
   "id": "9c92bda2",
   "metadata": {},
   "outputs": [],
   "source": []
  }
 ],
 "metadata": {
  "kernelspec": {
   "display_name": "Python 3 (ipykernel)",
   "language": "python",
   "name": "python3"
  },
  "language_info": {
   "codemirror_mode": {
    "name": "ipython",
    "version": 3
   },
   "file_extension": ".py",
   "mimetype": "text/x-python",
   "name": "python",
   "nbconvert_exporter": "python",
   "pygments_lexer": "ipython3",
   "version": "3.10.7"
  }
 },
 "nbformat": 4,
 "nbformat_minor": 5
}
